{
 "cells": [
  {
   "cell_type": "code",
   "execution_count": 1,
   "id": "c988b02b",
   "metadata": {},
   "outputs": [],
   "source": [
    "import pandas as pd\n",
    "import numpy as np\n",
    "\n",
    "from sklearn.ensemble import RandomForestRegressor\n",
    "from sklearn.model_selection import GridSearchCV, train_test_split\n",
    "from sklearn.metrics import mean_squared_error, r2_score, mean_absolute_error, mean_squared_log_error"
   ]
  },
  {
   "cell_type": "code",
   "execution_count": 2,
   "id": "8fb3d4fa",
   "metadata": {},
   "outputs": [
    {
     "data": {
      "text/html": [
       "<div>\n",
       "<style scoped>\n",
       "    .dataframe tbody tr th:only-of-type {\n",
       "        vertical-align: middle;\n",
       "    }\n",
       "\n",
       "    .dataframe tbody tr th {\n",
       "        vertical-align: top;\n",
       "    }\n",
       "\n",
       "    .dataframe thead th {\n",
       "        text-align: right;\n",
       "    }\n",
       "</style>\n",
       "<table border=\"1\" class=\"dataframe\">\n",
       "  <thead>\n",
       "    <tr style=\"text-align: right;\">\n",
       "      <th></th>\n",
       "      <th>Year</th>\n",
       "      <th>Month</th>\n",
       "      <th>Day</th>\n",
       "      <th>Hour</th>\n",
       "      <th>Weekday</th>\n",
       "      <th>Hour_x</th>\n",
       "      <th>Hour_y</th>\n",
       "      <th>DOTW_x</th>\n",
       "      <th>DOTW_y</th>\n",
       "      <th>Holi</th>\n",
       "      <th>...</th>\n",
       "      <th>Humi</th>\n",
       "      <th>WS</th>\n",
       "      <th>THI</th>\n",
       "      <th>WCT</th>\n",
       "      <th>Cons_1</th>\n",
       "      <th>Holi_1</th>\n",
       "      <th>Cons_7</th>\n",
       "      <th>Holi_7</th>\n",
       "      <th>Cons_avg</th>\n",
       "      <th>Consumption</th>\n",
       "    </tr>\n",
       "  </thead>\n",
       "  <tbody>\n",
       "    <tr>\n",
       "      <th>0</th>\n",
       "      <td>15</td>\n",
       "      <td>9</td>\n",
       "      <td>1</td>\n",
       "      <td>0</td>\n",
       "      <td>1</td>\n",
       "      <td>0.000000</td>\n",
       "      <td>1.000000</td>\n",
       "      <td>0.781831</td>\n",
       "      <td>0.62349</td>\n",
       "      <td>0</td>\n",
       "      <td>...</td>\n",
       "      <td>65.9</td>\n",
       "      <td>3.5</td>\n",
       "      <td>72.997827</td>\n",
       "      <td>26.544718</td>\n",
       "      <td>0.0</td>\n",
       "      <td>0</td>\n",
       "      <td>0.0</td>\n",
       "      <td>0</td>\n",
       "      <td>0.0</td>\n",
       "      <td>1198.80</td>\n",
       "    </tr>\n",
       "    <tr>\n",
       "      <th>1</th>\n",
       "      <td>15</td>\n",
       "      <td>9</td>\n",
       "      <td>1</td>\n",
       "      <td>1</td>\n",
       "      <td>1</td>\n",
       "      <td>0.258819</td>\n",
       "      <td>0.965926</td>\n",
       "      <td>0.781831</td>\n",
       "      <td>0.62349</td>\n",
       "      <td>0</td>\n",
       "      <td>...</td>\n",
       "      <td>65.6</td>\n",
       "      <td>3.9</td>\n",
       "      <td>72.529536</td>\n",
       "      <td>26.176736</td>\n",
       "      <td>0.0</td>\n",
       "      <td>0</td>\n",
       "      <td>0.0</td>\n",
       "      <td>0</td>\n",
       "      <td>0.0</td>\n",
       "      <td>1113.48</td>\n",
       "    </tr>\n",
       "    <tr>\n",
       "      <th>2</th>\n",
       "      <td>15</td>\n",
       "      <td>9</td>\n",
       "      <td>1</td>\n",
       "      <td>2</td>\n",
       "      <td>1</td>\n",
       "      <td>0.500000</td>\n",
       "      <td>0.866025</td>\n",
       "      <td>0.781831</td>\n",
       "      <td>0.62349</td>\n",
       "      <td>0</td>\n",
       "      <td>...</td>\n",
       "      <td>67.1</td>\n",
       "      <td>3.6</td>\n",
       "      <td>72.235089</td>\n",
       "      <td>25.871103</td>\n",
       "      <td>0.0</td>\n",
       "      <td>0</td>\n",
       "      <td>0.0</td>\n",
       "      <td>0</td>\n",
       "      <td>0.0</td>\n",
       "      <td>987.84</td>\n",
       "    </tr>\n",
       "    <tr>\n",
       "      <th>3</th>\n",
       "      <td>15</td>\n",
       "      <td>9</td>\n",
       "      <td>1</td>\n",
       "      <td>3</td>\n",
       "      <td>1</td>\n",
       "      <td>0.707107</td>\n",
       "      <td>0.707107</td>\n",
       "      <td>0.781831</td>\n",
       "      <td>0.62349</td>\n",
       "      <td>0</td>\n",
       "      <td>...</td>\n",
       "      <td>67.9</td>\n",
       "      <td>2.4</td>\n",
       "      <td>71.570456</td>\n",
       "      <td>25.472185</td>\n",
       "      <td>0.0</td>\n",
       "      <td>0</td>\n",
       "      <td>0.0</td>\n",
       "      <td>0</td>\n",
       "      <td>0.0</td>\n",
       "      <td>891.36</td>\n",
       "    </tr>\n",
       "    <tr>\n",
       "      <th>4</th>\n",
       "      <td>15</td>\n",
       "      <td>9</td>\n",
       "      <td>1</td>\n",
       "      <td>4</td>\n",
       "      <td>1</td>\n",
       "      <td>0.866025</td>\n",
       "      <td>0.500000</td>\n",
       "      <td>0.781831</td>\n",
       "      <td>0.62349</td>\n",
       "      <td>0</td>\n",
       "      <td>...</td>\n",
       "      <td>67.9</td>\n",
       "      <td>3.0</td>\n",
       "      <td>71.274014</td>\n",
       "      <td>25.169193</td>\n",
       "      <td>0.0</td>\n",
       "      <td>0</td>\n",
       "      <td>0.0</td>\n",
       "      <td>0</td>\n",
       "      <td>0.0</td>\n",
       "      <td>845.64</td>\n",
       "    </tr>\n",
       "  </tbody>\n",
       "</table>\n",
       "<p>5 rows × 21 columns</p>\n",
       "</div>"
      ],
      "text/plain": [
       "   Year  Month  Day  Hour  Weekday    Hour_x    Hour_y    DOTW_x   DOTW_y  \\\n",
       "0    15      9    1     0        1  0.000000  1.000000  0.781831  0.62349   \n",
       "1    15      9    1     1        1  0.258819  0.965926  0.781831  0.62349   \n",
       "2    15      9    1     2        1  0.500000  0.866025  0.781831  0.62349   \n",
       "3    15      9    1     3        1  0.707107  0.707107  0.781831  0.62349   \n",
       "4    15      9    1     4        1  0.866025  0.500000  0.781831  0.62349   \n",
       "\n",
       "   Holi  ...  Humi   WS        THI        WCT  Cons_1  Holi_1  Cons_7  Holi_7  \\\n",
       "0     0  ...  65.9  3.5  72.997827  26.544718     0.0       0     0.0       0   \n",
       "1     0  ...  65.6  3.9  72.529536  26.176736     0.0       0     0.0       0   \n",
       "2     0  ...  67.1  3.6  72.235089  25.871103     0.0       0     0.0       0   \n",
       "3     0  ...  67.9  2.4  71.570456  25.472185     0.0       0     0.0       0   \n",
       "4     0  ...  67.9  3.0  71.274014  25.169193     0.0       0     0.0       0   \n",
       "\n",
       "   Cons_avg  Consumption  \n",
       "0       0.0      1198.80  \n",
       "1       0.0      1113.48  \n",
       "2       0.0       987.84  \n",
       "3       0.0       891.36  \n",
       "4       0.0       845.64  \n",
       "\n",
       "[5 rows x 21 columns]"
      ]
     },
     "execution_count": 2,
     "metadata": {},
     "output_type": "execute_result"
    }
   ],
   "source": [
    "path = 'C:/Users/user/Desktop/PLoSONE/data/'\n",
    "\n",
    "data = pd.read_csv(path + 'KU_dormitory_PLoS ONE.csv')\n",
    "data.head()"
   ]
  },
  {
   "cell_type": "code",
   "execution_count": 3,
   "id": "3a30eeb6",
   "metadata": {},
   "outputs": [],
   "source": [
    "#data_drop = data.drop(columns = 'Date', axis = 1)\n",
    "#data_drop.head()"
   ]
  },
  {
   "cell_type": "code",
   "execution_count": 4,
   "id": "bde1fe31",
   "metadata": {},
   "outputs": [],
   "source": [
    "x_train = data.iloc[:20472]\n",
    "x_test = data.iloc[20472:]\n",
    "y_train = data.iloc[:20472]"
   ]
  },
  {
   "cell_type": "code",
   "execution_count": 5,
   "id": "7f9fac8b",
   "metadata": {},
   "outputs": [],
   "source": [
    "# target 정의 \n",
    "y = y_train['Consumption']"
   ]
  },
  {
   "cell_type": "code",
   "execution_count": 6,
   "id": "988dd629",
   "metadata": {},
   "outputs": [],
   "source": [
    "# 데이터 셋 분리\n",
    "X_train, X_valid, Y_train, Y_valid = train_test_split(x_train, y, test_size=0.3, random_state=42)"
   ]
  },
  {
   "cell_type": "code",
   "execution_count": 7,
   "id": "ba5b526f",
   "metadata": {},
   "outputs": [
    {
     "name": "stderr",
     "output_type": "stream",
     "text": [
      "C:\\Users\\user\\anaconda3\\envs\\py_38\\lib\\site-packages\\sklearn\\ensemble\\_forest.py:413: FutureWarning: `max_features='auto'` has been deprecated in 1.1 and will be removed in 1.3. To keep the past behaviour, explicitly set `max_features=1.0` or remove this parameter as it is also the default value for RandomForestRegressors and ExtraTreesRegressors.\n",
      "  warn(\n",
      "C:\\Users\\user\\anaconda3\\envs\\py_38\\lib\\site-packages\\sklearn\\ensemble\\_forest.py:413: FutureWarning: `max_features='auto'` has been deprecated in 1.1 and will be removed in 1.3. To keep the past behaviour, explicitly set `max_features=1.0` or remove this parameter as it is also the default value for RandomForestRegressors and ExtraTreesRegressors.\n",
      "  warn(\n",
      "C:\\Users\\user\\anaconda3\\envs\\py_38\\lib\\site-packages\\sklearn\\ensemble\\_forest.py:413: FutureWarning: `max_features='auto'` has been deprecated in 1.1 and will be removed in 1.3. To keep the past behaviour, explicitly set `max_features=1.0` or remove this parameter as it is also the default value for RandomForestRegressors and ExtraTreesRegressors.\n",
      "  warn(\n",
      "C:\\Users\\user\\anaconda3\\envs\\py_38\\lib\\site-packages\\sklearn\\ensemble\\_forest.py:413: FutureWarning: `max_features='auto'` has been deprecated in 1.1 and will be removed in 1.3. To keep the past behaviour, explicitly set `max_features=1.0` or remove this parameter as it is also the default value for RandomForestRegressors and ExtraTreesRegressors.\n",
      "  warn(\n",
      "C:\\Users\\user\\anaconda3\\envs\\py_38\\lib\\site-packages\\sklearn\\ensemble\\_forest.py:413: FutureWarning: `max_features='auto'` has been deprecated in 1.1 and will be removed in 1.3. To keep the past behaviour, explicitly set `max_features=1.0` or remove this parameter as it is also the default value for RandomForestRegressors and ExtraTreesRegressors.\n",
      "  warn(\n",
      "C:\\Users\\user\\anaconda3\\envs\\py_38\\lib\\site-packages\\sklearn\\ensemble\\_forest.py:413: FutureWarning: `max_features='auto'` has been deprecated in 1.1 and will be removed in 1.3. To keep the past behaviour, explicitly set `max_features=1.0` or remove this parameter as it is also the default value for RandomForestRegressors and ExtraTreesRegressors.\n",
      "  warn(\n"
     ]
    },
    {
     "name": "stdout",
     "output_type": "stream",
     "text": [
      "{'max_features': 'auto', 'n_estimators': 128}\n"
     ]
    }
   ],
   "source": [
    "# RF\n",
    "model = RandomForestRegressor()\n",
    "\n",
    "params = {'n_estimators': [128], \n",
    "    'max_features': ['auto', 'sqrt', 'log2']\n",
    "}\n",
    "\n",
    "# GridSEarch\n",
    "gr = GridSearchCV(model, param_grid = params, cv = 5)\n",
    "gr.fit(X_train, Y_train)\n",
    "\n",
    "print(gr.best_params_)"
   ]
  },
  {
   "cell_type": "code",
   "execution_count": 8,
   "id": "fb746eed",
   "metadata": {},
   "outputs": [
    {
     "name": "stderr",
     "output_type": "stream",
     "text": [
      "C:\\Users\\user\\anaconda3\\envs\\py_38\\lib\\site-packages\\sklearn\\ensemble\\_forest.py:413: FutureWarning: `max_features='auto'` has been deprecated in 1.1 and will be removed in 1.3. To keep the past behaviour, explicitly set `max_features=1.0` or remove this parameter as it is also the default value for RandomForestRegressors and ExtraTreesRegressors.\n",
      "  warn(\n"
     ]
    },
    {
     "data": {
      "text/plain": [
       "array([1151.685    , 1352.075625 , 1225.0040625, ..., 1395.7340625,\n",
       "       1386.2896875, 1075.32     ])"
      ]
     },
     "execution_count": 8,
     "metadata": {},
     "output_type": "execute_result"
    }
   ],
   "source": [
    "rf = RandomForestRegressor(random_state=42, max_features='auto', n_estimators=128) # 다시 넣기\n",
    "rf.fit(X_train, Y_train)\n",
    "\n",
    "y_pred = rf.predict(X_valid)\n",
    "y_pred"
   ]
  },
  {
   "cell_type": "code",
   "execution_count": 9,
   "id": "b08914cc",
   "metadata": {},
   "outputs": [
    {
     "data": {
      "text/plain": [
       "(8760,)"
      ]
     },
     "execution_count": 9,
     "metadata": {},
     "output_type": "execute_result"
    }
   ],
   "source": [
    "# 실제값 \n",
    "y_predict = rf.predict(x_test)\n",
    "y_predict.shape"
   ]
  },
  {
   "cell_type": "code",
   "execution_count": 10,
   "id": "1b5bc2ae",
   "metadata": {},
   "outputs": [
    {
     "data": {
      "text/plain": [
       "array([1064.165625 , 1080.725625 , 1097.65125  , ..., 1513.4146875,\n",
       "       1400.6221875, 1327.275    ])"
      ]
     },
     "execution_count": 10,
     "metadata": {},
     "output_type": "execute_result"
    }
   ],
   "source": [
    "y_predict"
   ]
  },
  {
   "cell_type": "code",
   "execution_count": 12,
   "id": "bfa99d09",
   "metadata": {},
   "outputs": [],
   "source": [
    "df = pd.DataFrame({'Year' : data['Year'].iloc[20472:], 'Month' : data['Month'].iloc[20472:], \n",
    "              'Day' : data['Day'].iloc[20472:], 'Hour' : data['Hour'].iloc[20472:], \n",
    "              'Actual': data['Consumption'].iloc[20472:], 'Predict' : y_predict}).reset_index(drop=True)\n",
    "\n",
    "df.to_csv('C:/Users/user/Desktop/PLoSONE/predict/KU_dormitory_PLoS_RF.csv', header=True, index=False)"
   ]
  },
  {
   "cell_type": "code",
   "execution_count": null,
   "id": "f2a19e11",
   "metadata": {},
   "outputs": [],
   "source": []
  }
 ],
 "metadata": {
  "kernelspec": {
   "display_name": "Python 3 (ipykernel)",
   "language": "python",
   "name": "python3"
  },
  "language_info": {
   "codemirror_mode": {
    "name": "ipython",
    "version": 3
   },
   "file_extension": ".py",
   "mimetype": "text/x-python",
   "name": "python",
   "nbconvert_exporter": "python",
   "pygments_lexer": "ipython3",
   "version": "3.8.0"
  }
 },
 "nbformat": 4,
 "nbformat_minor": 5
}
